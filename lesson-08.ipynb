{
 "cells": [
  {
   "cell_type": "markdown",
   "metadata": {},
   "source": [
    "## Урок 8\n",
    "### Двухфакторный дисперсионный анализ. Факторный анализ. Логистическая регрессия"
   ]
  },
  {
   "cell_type": "code",
   "execution_count": 1,
   "metadata": {},
   "outputs": [],
   "source": [
    "import numpy as np\n",
    "from scipy import stats"
   ]
  },
  {
   "cell_type": "markdown",
   "metadata": {},
   "source": [
    "#### Задача 1\n",
    "Объясняемая переменная `y` зависит от двух категориальных факторов `A` и `B`, причём фактор `A` имеет 3 уровня, а фактор `B` - 4 уровня. Результаты наблюдений приведены в таблице:\n",
    "\n",
    "```\n",
    "y = [[2.68, 3.29, 2.88, 4.45],\n",
    "     [4.12, 4.96, 5.09, 5.22],\n",
    "     [5.52, 4.50, 5.42, 5.29]]\n",
    "```\n",
    "\n",
    "С помощью двухфакторного дисперсионного анализа проверьте влияние каждого из факторов на переменную `y`."
   ]
  },
  {
   "cell_type": "markdown",
   "metadata": {},
   "source": [
    "##### Решение"
   ]
  },
  {
   "cell_type": "markdown",
   "metadata": {},
   "source": [
    "Null Hypothesis for Factor A ($H_{0A}$):  \n",
    "$$H_{0A}: \\: \\overline{y_{1 \\ast}} = \\dots = \\overline{y_{m \\ast}}$$ (i.e. Factor A does not affect `y`)  \n",
    "\n",
    "Null Hypothesis for Factor B ($H_{0B}$):  \n",
    "$$H_{0B}: \\: \\overline{y_{\\ast 1}} = \\dots = \\overline{y_{\\ast k}}$$ (i.e. Factor B does not affect `y`)"
   ]
  },
  {
   "cell_type": "code",
   "execution_count": 2,
   "metadata": {},
   "outputs": [
    {
     "data": {
      "text/plain": [
       "array([2.68, 3.29, 2.88, 4.45, 4.12, 4.96, 5.09, 5.22, 5.52, 4.5 , 5.42,\n",
       "       5.29])"
      ]
     },
     "execution_count": 2,
     "metadata": {},
     "output_type": "execute_result"
    }
   ],
   "source": [
    "# Factor A (rows)\n",
    "# Level 1 of Factor A and k levels of Factor B\n",
    "y_a1 = np.array([2.68, 3.29, 2.88, 4.45], dtype=np.float64)\n",
    "# Level 2 of Factor A and k levels of Factor B\n",
    "y_a2 = np.array([4.12, 4.96, 5.09, 5.22], dtype=np.float64)\n",
    "# Level 3 of Factor A and k levels of Factor B\n",
    "y_a3 = np.array([5.52, 4.50, 5.42, 5.29], dtype=np.float64)\n",
    "\n",
    "# Factor B (columns)\n",
    "# Level 1 of Factor B and m levels of Factor A\n",
    "y_b1 = np.array([2.68, 4.12, 5.52], dtype=np.float64)\n",
    "# Level 2 of Factor B and m levels of Factor A\n",
    "y_b2 = np.array([3.29, 4.96, 4.50], dtype=np.float64)\n",
    "# Level 3 of Factor B and m levels of Factor A\n",
    "y_b3 = np.array([2.88, 5.09, 5.42], dtype=np.float64)\n",
    "# Level 4 of Factor B and m levels of Factor A\n",
    "y_b4 = np.array([4.45, 5.22, 5.29], dtype=np.float64)\n",
    "\n",
    "m = 3 # number of Factor A levels\n",
    "k = 4 # number of Factor B levels\n",
    "\n",
    "# All observations\n",
    "y_all = np.concatenate([y_a1, y_a2, y_a3])\n",
    "y_all"
   ]
  },
  {
   "cell_type": "code",
   "execution_count": 3,
   "metadata": {},
   "outputs": [
    {
     "data": {
      "text/plain": [
       "(3.325, 4.8475, 5.1825)"
      ]
     },
     "execution_count": 3,
     "metadata": {},
     "output_type": "execute_result"
    }
   ],
   "source": [
    "# Mean for Factor A levels\n",
    "y_a1_mean = np.mean(y_a1)\n",
    "y_a2_mean = np.mean(y_a2)\n",
    "y_a3_mean = np.mean(y_a3)\n",
    "\n",
    "y_a1_mean, y_a2_mean, y_a3_mean"
   ]
  },
  {
   "cell_type": "code",
   "execution_count": 4,
   "metadata": {},
   "outputs": [
    {
     "data": {
      "text/plain": [
       "(4.1066666666666665, 4.25, 4.463333333333334, 4.986666666666667)"
      ]
     },
     "execution_count": 4,
     "metadata": {},
     "output_type": "execute_result"
    }
   ],
   "source": [
    "# Mean for Factor B levels\n",
    "y_b1_mean = np.mean(y_b1)\n",
    "y_b2_mean = np.mean(y_b2)\n",
    "y_b3_mean = np.mean(y_b3)\n",
    "y_b4_mean = np.mean(y_b4)\n",
    "\n",
    "y_b1_mean, y_b2_mean, y_b3_mean, y_b4_mean"
   ]
  },
  {
   "cell_type": "code",
   "execution_count": 5,
   "metadata": {},
   "outputs": [
    {
     "data": {
      "text/plain": [
       "4.451666666666666"
      ]
     },
     "execution_count": 5,
     "metadata": {},
     "output_type": "execute_result"
    }
   ],
   "source": [
    "# Mean for all observations\n",
    "y_all_mean = np.mean(y_all)\n",
    "y_all_mean"
   ]
  },
  {
   "cell_type": "markdown",
   "metadata": {},
   "source": [
    "Sums of the squared deviations:\n",
    "$$S_A^2 = k \\cdot \\displaystyle\\sum_{i=1}^m \\left( \\overline{y_{i \\ast}} - \\overline{y} \\right)^2, \\:\n",
    "S_B^2 = m \\cdot \\displaystyle\\sum_{j=1}^k \\left( \\overline{y_{\\ast j}} - \\overline{y} \\right)^2, \\:\n",
    "S_{res}^2 = \\displaystyle\\sum_{i=1}^m \\displaystyle\\sum_{j=1}^k \\left( y_{ij} - \\overline{y_{i \\ast}} - \\overline{y_{\\ast j}} + \\overline{y} \\right)^2.$$"
   ]
  },
  {
   "cell_type": "code",
   "execution_count": 6,
   "metadata": {},
   "outputs": [
    {
     "data": {
      "text/plain": [
       "7.8407166666666654"
      ]
     },
     "execution_count": 6,
     "metadata": {},
     "output_type": "execute_result"
    }
   ],
   "source": [
    "# Sum of the squared deviations for Factor A\n",
    "s2_a = k * (((y_a1_mean - y_all_mean) ** 2) + ((y_a2_mean - y_all_mean) ** 2) + ((y_a3_mean - y_all_mean) ** 2))\n",
    "s2_a"
   ]
  },
  {
   "cell_type": "code",
   "execution_count": 7,
   "metadata": {},
   "outputs": [
    {
     "data": {
      "text/plain": [
       "1.338166666666669"
      ]
     },
     "execution_count": 7,
     "metadata": {},
     "output_type": "execute_result"
    }
   ],
   "source": [
    "# Sum of the squared deviations for Factor B\n",
    "s2_b = m * (((y_b1_mean - y_all_mean) ** 2) + ((y_b2_mean - y_all_mean) ** 2) + ((y_b3_mean - y_all_mean) ** 2) + ((y_b4_mean - y_all_mean) ** 2))\n",
    "s2_b"
   ]
  },
  {
   "cell_type": "code",
   "execution_count": 8,
   "metadata": {},
   "outputs": [
    {
     "data": {
      "text/plain": [
       "3.9073722222222207"
      ]
     },
     "execution_count": 8,
     "metadata": {},
     "output_type": "execute_result"
    }
   ],
   "source": [
    "# Residual sum of the squared deviations\n",
    "s2_res = np.sum((y_a1 - y_a1_mean - y_b1_mean + y_all_mean) ** 2) + np.sum((y_a2 - y_a2_mean - y_b2_mean + y_all_mean) ** 2) + np.sum((y_a3 - y_a3_mean - y_b3_mean + y_all_mean) ** 2)\n",
    "s2_res"
   ]
  },
  {
   "cell_type": "markdown",
   "metadata": {},
   "source": [
    "Variances:\n",
    "$$\\sigma_A^2 = \\dfrac{S_A^2}{m - 1}, \\: \\sigma_B^2 = \\dfrac{S_B^2}{k - 1}, \\:\n",
    "\\sigma_{res}^2 = \\dfrac{S_{res}^2}{(k - 1) (m - 1)}.$$"
   ]
  },
  {
   "cell_type": "code",
   "execution_count": 9,
   "metadata": {},
   "outputs": [
    {
     "data": {
      "text/plain": [
       "3.9203583333333327"
      ]
     },
     "execution_count": 9,
     "metadata": {},
     "output_type": "execute_result"
    }
   ],
   "source": [
    "# Variance for Factor A\n",
    "sigma2_a = s2_a / (m - 1)\n",
    "sigma2_a"
   ]
  },
  {
   "cell_type": "code",
   "execution_count": 10,
   "metadata": {},
   "outputs": [
    {
     "data": {
      "text/plain": [
       "0.4460555555555563"
      ]
     },
     "execution_count": 10,
     "metadata": {},
     "output_type": "execute_result"
    }
   ],
   "source": [
    "# Variance for Factor B\n",
    "sigma2_b = s2_b / (k - 1)\n",
    "sigma2_b"
   ]
  },
  {
   "cell_type": "code",
   "execution_count": 11,
   "metadata": {},
   "outputs": [
    {
     "data": {
      "text/plain": [
       "0.6512287037037034"
      ]
     },
     "execution_count": 11,
     "metadata": {},
     "output_type": "execute_result"
    }
   ],
   "source": [
    "# Residual variance\n",
    "sigma2_res = s2_res / ((k - 1) * (m - 1))\n",
    "sigma2_res"
   ]
  },
  {
   "cell_type": "markdown",
   "metadata": {},
   "source": [
    "Statistics:\n",
    "$$T_A = \\dfrac{\\sigma_A^2}{\\sigma_{res}^2}, \\: T_B = \\dfrac{\\sigma_B^2}{\\sigma_{res}^2}.$$"
   ]
  },
  {
   "cell_type": "code",
   "execution_count": 12,
   "metadata": {},
   "outputs": [
    {
     "data": {
      "text/plain": [
       "6.019940937856788"
      ]
     },
     "execution_count": 12,
     "metadata": {},
     "output_type": "execute_result"
    }
   ],
   "source": [
    "# Calculate F-criterion for Factor A\n",
    "F_h_a = sigma2_a / sigma2_res\n",
    "F_h_a"
   ]
  },
  {
   "cell_type": "code",
   "execution_count": 13,
   "metadata": {},
   "outputs": [
    {
     "data": {
      "text/plain": [
       "0.684944556372784"
      ]
     },
     "execution_count": 13,
     "metadata": {},
     "output_type": "execute_result"
    }
   ],
   "source": [
    "# Calculate F-criterion for Factor B\n",
    "F_h_b = sigma2_b / sigma2_res\n",
    "F_h_b"
   ]
  },
  {
   "cell_type": "code",
   "execution_count": 14,
   "metadata": {},
   "outputs": [
    {
     "data": {
      "text/plain": [
       "(12, 2, 9, 3, 8)"
      ]
     },
     "execution_count": 14,
     "metadata": {},
     "output_type": "execute_result"
    }
   ],
   "source": [
    "n = k * m # number of all observations\n",
    "\n",
    "f1_a = m - 1\n",
    "f2_a = n - m\n",
    "\n",
    "f1_b = k - 1\n",
    "f2_b = n - k\n",
    "\n",
    "n, f1_a, f2_a, f1_b, f2_b"
   ]
  },
  {
   "cell_type": "code",
   "execution_count": 15,
   "metadata": {},
   "outputs": [
    {
     "data": {
      "text/plain": [
       "(4.25649472909375, 4.06618055135116)"
      ]
     },
     "execution_count": 15,
     "metadata": {},
     "output_type": "execute_result"
    }
   ],
   "source": [
    "alpha = 0.05 # significance level\n",
    "\n",
    "# Calculate reference F-criterion for Factor A using built-in function \n",
    "F_crit_a = stats.f.ppf(1 - alpha, f1_a, f2_a)\n",
    "\n",
    "# Calculate reference F-criterion for Factor B using built-in function\n",
    "F_crit_b = stats.f.ppf(1 - alpha, f1_b, f2_b)\n",
    "\n",
    "F_crit_a, F_crit_b"
   ]
  },
  {
   "cell_type": "code",
   "execution_count": 16,
   "metadata": {},
   "outputs": [
    {
     "data": {
      "text/plain": [
       "True"
      ]
     },
     "execution_count": 16,
     "metadata": {},
     "output_type": "execute_result"
    }
   ],
   "source": [
    "F_h_a > F_crit_a"
   ]
  },
  {
   "cell_type": "markdown",
   "metadata": {},
   "source": [
    "Null Hypothesis $H_{0A}$ is rejected, Factor A affects `y`."
   ]
  },
  {
   "cell_type": "code",
   "execution_count": 17,
   "metadata": {},
   "outputs": [
    {
     "data": {
      "text/plain": [
       "False"
      ]
     },
     "execution_count": 17,
     "metadata": {},
     "output_type": "execute_result"
    }
   ],
   "source": [
    "F_h_b > F_crit_b"
   ]
  },
  {
   "cell_type": "markdown",
   "metadata": {},
   "source": [
    "Null Hypothesis $H_{0B}$ is accepted, Factor B does not affect `y`."
   ]
  },
  {
   "cell_type": "markdown",
   "metadata": {},
   "source": [
    "#### Задача 2\n",
    "С помощью критерия Стьюдента для двух независимых выборок проверьте гипотезу о равенстве среднего роста футболистов и хоккеистов, основываясь на результатах измерений:\n",
    "\n",
    "```\n",
    "football_players = [173, 175, 180, 178, 177, 185, 183, 182]\n",
    "hockey_players = [177, 179, 180, 188, 177, 172, 171, 184, 180]\n",
    "```"
   ]
  },
  {
   "cell_type": "markdown",
   "metadata": {},
   "source": [
    "##### Решение"
   ]
  },
  {
   "cell_type": "code",
   "execution_count": 18,
   "metadata": {},
   "outputs": [],
   "source": [
    "football_players = np.array([173, 175, 180, 178, 177, 185, 183, 182])\n",
    "hockey_players = np.array([177, 179, 180, 188, 177, 172, 171, 184, 180])"
   ]
  },
  {
   "cell_type": "markdown",
   "metadata": {},
   "source": [
    "Null Hypothesis $H_0$: $${\\overline{X_1} =\\overline{X_2}}$$"
   ]
  },
  {
   "cell_type": "code",
   "execution_count": 19,
   "metadata": {},
   "outputs": [
    {
     "data": {
      "text/plain": [
       "(8, 9)"
      ]
     },
     "execution_count": 19,
     "metadata": {},
     "output_type": "execute_result"
    }
   ],
   "source": [
    "# Number of observations for each dataset\n",
    "n1 = football_players.shape[0]\n",
    "n2 = hockey_players.shape[0]\n",
    "\n",
    "n1, n2"
   ]
  },
  {
   "cell_type": "code",
   "execution_count": 20,
   "metadata": {},
   "outputs": [
    {
     "data": {
      "text/plain": [
       "(179.125, 178.66666666666666)"
      ]
     },
     "execution_count": 20,
     "metadata": {},
     "output_type": "execute_result"
    }
   ],
   "source": [
    "# Mean for each dataset\n",
    "mean1 = football_players.mean()\n",
    "mean2 = hockey_players.mean()\n",
    "\n",
    "mean1, mean2"
   ]
  },
  {
   "cell_type": "code",
   "execution_count": 21,
   "metadata": {},
   "outputs": [
    {
     "data": {
      "text/plain": [
       "(4.120939559996343, 5.338539126015656)"
      ]
     },
     "execution_count": 21,
     "metadata": {},
     "output_type": "execute_result"
    }
   ],
   "source": [
    "# Unbiased standard deviation for each dataset\n",
    "sigma1 = football_players.std(ddof=1)\n",
    "sigma2 = hockey_players.std(ddof=1)\n",
    "\n",
    "sigma1, sigma2"
   ]
  },
  {
   "cell_type": "markdown",
   "metadata": {},
   "source": [
    "Statistics:\n",
    "$$T = \\dfrac{\\overline{X_1} -\\overline{X_2}}{\\sqrt{\\frac{\\sigma_1^2}{n_1} + \\frac{\\sigma_2^2}{n_2}}}$$"
   ]
  },
  {
   "cell_type": "code",
   "execution_count": 22,
   "metadata": {},
   "outputs": [
    {
     "data": {
      "text/plain": [
       "0.19928601397363732"
      ]
     },
     "execution_count": 22,
     "metadata": {},
     "output_type": "execute_result"
    }
   ],
   "source": [
    "# Calculate statistics\n",
    "T = (mean1 - mean2) / np.sqrt((sigma1 ** 2) / n1 + (sigma2 ** 2) / n2)\n",
    "T"
   ]
  },
  {
   "cell_type": "code",
   "execution_count": 23,
   "metadata": {},
   "outputs": [
    {
     "data": {
      "text/plain": [
       "2.131449545559323"
      ]
     },
     "execution_count": 23,
     "metadata": {},
     "output_type": "execute_result"
    }
   ],
   "source": [
    "alpha = 0.05 # significance level\n",
    "\n",
    "# Calculate quantile for t-distribution (Student's coefficient)\n",
    "# df = n1 + n2 - 2\n",
    "t = stats.t.ppf(1 - alpha / 2, df = n1 + n2 - 2)\n",
    "t"
   ]
  },
  {
   "cell_type": "code",
   "execution_count": 24,
   "metadata": {},
   "outputs": [
    {
     "data": {
      "text/plain": [
       "True"
      ]
     },
     "execution_count": 24,
     "metadata": {},
     "output_type": "execute_result"
    }
   ],
   "source": [
    "# Is the Null Hypothesis true?\n",
    "-t < T < t"
   ]
  }
 ],
 "metadata": {
  "kernelspec": {
   "display_name": "Python 3",
   "language": "python",
   "name": "python3"
  },
  "language_info": {
   "codemirror_mode": {
    "name": "ipython",
    "version": 3
   },
   "file_extension": ".py",
   "mimetype": "text/x-python",
   "name": "python",
   "nbconvert_exporter": "python",
   "pygments_lexer": "ipython3",
   "version": "3.7.3"
  }
 },
 "nbformat": 4,
 "nbformat_minor": 2
}
