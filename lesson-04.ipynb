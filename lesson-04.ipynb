{
 "cells": [
  {
   "cell_type": "markdown",
   "metadata": {},
   "source": [
    "## Урок 4\n",
    "### Непрерывные случайные величины. \n",
    "### Функция распределения и плотность распределения вероятностей. \n",
    "### Равномерное и нормальное распределение. Центральная предельная теорема."
   ]
  },
  {
   "cell_type": "code",
   "execution_count": 1,
   "metadata": {},
   "outputs": [],
   "source": [
    "import numpy as np\n",
    "import pandas as pd\n",
    "from scipy import stats"
   ]
  },
  {
   "cell_type": "markdown",
   "metadata": {},
   "source": [
    "#### Задача 1\n",
    "О непрерывной равномерно распределенной случайной величине `B` известно, что ее дисперсия равна 0.2. Можно ли найти правую границу величины `B` и ее среднее значение зная, что левая граница равна 0.5? Если да, найдите ее."
   ]
  },
  {
   "cell_type": "markdown",
   "metadata": {},
   "source": [
    "##### Решение"
   ]
  },
  {
   "cell_type": "markdown",
   "metadata": {},
   "source": [
    "Math expected value formula:\n",
    "$$M(X) = \\dfrac{a + b}{2}.$$\n",
    "\n",
    "Dispersion of uniform distribution formula:\n",
    "$$D(X) = \\dfrac{(b - a)^2}{12}.$$"
   ]
  },
  {
   "cell_type": "markdown",
   "metadata": {},
   "source": [
    "Quadratic equation:\n",
    "$$b^2 - 2*a*b + a^2 - 12*D = 0.$$"
   ]
  },
  {
   "cell_type": "code",
   "execution_count": 2,
   "metadata": {},
   "outputs": [],
   "source": [
    "disp = 0.2\n",
    "a = 0.5"
   ]
  },
  {
   "cell_type": "markdown",
   "metadata": {},
   "source": [
    "$$b^2 - b - 2.15 = 0.$$"
   ]
  },
  {
   "cell_type": "markdown",
   "metadata": {},
   "source": [
    "$$D = (-1)^2 - 4*1*(- 2.15).$$"
   ]
  },
  {
   "cell_type": "code",
   "execution_count": 3,
   "metadata": {},
   "outputs": [
    {
     "data": {
      "text/plain": [
       "9.6"
      ]
     },
     "execution_count": 3,
     "metadata": {},
     "output_type": "execute_result"
    }
   ],
   "source": [
    "# Discriminant\n",
    "D = (-1)**2 - 4 * 1 * (-2.15)\n",
    "D"
   ]
  },
  {
   "cell_type": "markdown",
   "metadata": {},
   "source": [
    "$$b1 = \\frac{-(-1) + \\sqrt{D}}{2*1}.$$\n",
    "$$b2 = \\frac{-(-1) - \\sqrt{D}}{2*1}.$$"
   ]
  },
  {
   "cell_type": "code",
   "execution_count": 4,
   "metadata": {},
   "outputs": [
    {
     "data": {
      "text/plain": [
       "2.049193338482967"
      ]
     },
     "execution_count": 4,
     "metadata": {},
     "output_type": "execute_result"
    }
   ],
   "source": [
    "b1 = (1 + np.sqrt(D))/2\n",
    "b1"
   ]
  },
  {
   "cell_type": "code",
   "execution_count": 5,
   "metadata": {},
   "outputs": [
    {
     "data": {
      "text/plain": [
       "-1.0491933384829668"
      ]
     },
     "execution_count": 5,
     "metadata": {},
     "output_type": "execute_result"
    }
   ],
   "source": [
    "b2 = (1 - np.sqrt(D))/2\n",
    "b2"
   ]
  },
  {
   "cell_type": "code",
   "execution_count": 6,
   "metadata": {},
   "outputs": [
    {
     "data": {
      "text/plain": [
       "1.2745966692414834"
      ]
     },
     "execution_count": 6,
     "metadata": {},
     "output_type": "execute_result"
    }
   ],
   "source": [
    "b = b1\n",
    "\n",
    "# Expected value\n",
    "M = (a + b)/2\n",
    "M"
   ]
  },
  {
   "cell_type": "markdown",
   "metadata": {},
   "source": [
    "#### Задача 2\n",
    "На сколько сигм (средних квадратических отклонений) отклоняется рост человека, равный 190 см, от математического ожидания роста в популяции, в которой `M(X) = 178` и `D(X) = 25`?"
   ]
  },
  {
   "cell_type": "markdown",
   "metadata": {},
   "source": [
    "##### Решение"
   ]
  },
  {
   "cell_type": "code",
   "execution_count": 7,
   "metadata": {},
   "outputs": [],
   "source": [
    "height = 190\n",
    "m_exp_val = 178\n",
    "disp = 25"
   ]
  },
  {
   "cell_type": "code",
   "execution_count": 8,
   "metadata": {},
   "outputs": [
    {
     "data": {
      "text/plain": [
       "5.0"
      ]
     },
     "execution_count": 8,
     "metadata": {},
     "output_type": "execute_result"
    }
   ],
   "source": [
    "# Calculate sigma\n",
    "sigma = np.sqrt(disp)\n",
    "sigma"
   ]
  },
  {
   "cell_type": "code",
   "execution_count": 9,
   "metadata": {},
   "outputs": [
    {
     "data": {
      "text/plain": [
       "2.4"
      ]
     },
     "execution_count": 9,
     "metadata": {},
     "output_type": "execute_result"
    }
   ],
   "source": [
    "# Find how many sigmas\n",
    "(height - m_exp_val) / sigma"
   ]
  },
  {
   "cell_type": "markdown",
   "metadata": {},
   "source": [
    "#### Задача 3\n",
    "Рост взрослого населения города `X` имеет нормальное распределение, причем, средний рост равен 174 см, а среднее квадратическое отклонение равно 8 см. С помощью правил одной, двух и трёх сигм посчитайте, какова вероятность того, что случайным образом выбранный взрослый человек имеет рост:\n",
    "\n",
    "1. больше 182 см?\n",
    "2. больше 190 см?\n",
    "3. от 166 см до 190 см?\n",
    "4. от 166 см до 182 см?\n",
    "5. от 158 см до 190 см?\n",
    "6. не выше 150 см или не ниже 190 см?\n",
    "7. не выше 150 см или не ниже 198 см?\n",
    "8. ниже 166 см?"
   ]
  },
  {
   "cell_type": "markdown",
   "metadata": {},
   "source": [
    "##### Решение"
   ]
  },
  {
   "cell_type": "code",
   "execution_count": 10,
   "metadata": {},
   "outputs": [],
   "source": [
    "height_mean = 174\n",
    "sigma = 8"
   ]
  },
  {
   "cell_type": "code",
   "execution_count": 11,
   "metadata": {},
   "outputs": [],
   "source": [
    "# Get sigma-based threshold values\n",
    "minus_three_sigmas = height_mean - sigma * 3\n",
    "minus_two_sigmas = height_mean - sigma * 2\n",
    "minus_one_sigma = height_mean - sigma\n",
    "plus_one_sigma = height_mean + sigma\n",
    "plus_two_sigmas = height_mean + sigma * 2\n",
    "plus_three_sigmas = height_mean + sigma * 3"
   ]
  },
  {
   "cell_type": "code",
   "execution_count": 12,
   "metadata": {},
   "outputs": [
    {
     "name": "stdout",
     "output_type": "stream",
     "text": [
      "Values less than (height_mean - 3*sigma): (0, 150)\n",
      "Values between (height_mean - 3*sigma) and (height_mean - 2*sigma): (150, 158)\n",
      "Values between (height_mean - 2*sigma) and (height_mean - sigma): (158, 166)\n",
      "Values between (height_mean - sigma) and (height_mean + sigma): (166, 182)\n",
      "Values between (height_mean + sigma) and (height_mean + 2*sigma): (182, 190)\n",
      "Values between (height_mean + 2*sigma) and (height_mean + 3*sigma): (190, 198)\n",
      "Values greater than (height_mean + 3*sigma): (198, 250)\n"
     ]
    }
   ],
   "source": [
    "# Define intervals based on threshold values\n",
    "print(\"Values less than (height_mean - 3*sigma): ({}, {})\".format(0, minus_three_sigmas))\n",
    "print(\"Values between (height_mean - 3*sigma) and (height_mean - 2*sigma): ({}, {})\".format(minus_three_sigmas, minus_two_sigmas))\n",
    "print(\"Values between (height_mean - 2*sigma) and (height_mean - sigma): ({}, {})\".format(minus_two_sigmas, minus_one_sigma))\n",
    "print(\"Values between (height_mean - sigma) and (height_mean + sigma): ({}, {})\".format(minus_one_sigma, plus_one_sigma))\n",
    "print(\"Values between (height_mean + sigma) and (height_mean + 2*sigma): ({}, {})\".format(plus_one_sigma, plus_two_sigmas))\n",
    "print(\"Values between (height_mean + 2*sigma) and (height_mean + 3*sigma): ({}, {})\".format(plus_two_sigmas, plus_three_sigmas))\n",
    "print(\"Values greater than (height_mean + 3*sigma): ({}, {})\".format(plus_three_sigmas, 250))"
   ]
  },
  {
   "cell_type": "code",
   "execution_count": 13,
   "metadata": {},
   "outputs": [
    {
     "data": {
      "text/plain": [
       "(0.6826894921370859, 0.9544997361036416, 0.9973002039367398)"
      ]
     },
     "execution_count": 13,
     "metadata": {},
     "output_type": "execute_result"
    }
   ],
   "source": [
    "# Values between (a - sigma) and (a + sigma)\n",
    "one_sigma_deviation = stats.norm.cdf(1) - stats.norm.cdf(-1)\n",
    "# Values between (a - 2*sigma) and (a + 2*sigma)\n",
    "two_sigmas_deviation = stats.norm.cdf(2) - stats.norm.cdf(-2)\n",
    "# Values between (a - 3*sigma) and (a + 3*sigma)\n",
    "three_sigmas_deviation = stats.norm.cdf(3) - stats.norm.cdf(-3)\n",
    "\n",
    "one_sigma_deviation, two_sigmas_deviation, three_sigmas_deviation"
   ]
  },
  {
   "cell_type": "code",
   "execution_count": 14,
   "metadata": {},
   "outputs": [
    {
     "data": {
      "text/plain": [
       "0.15865525393145707"
      ]
     },
     "execution_count": 14,
     "metadata": {},
     "output_type": "execute_result"
    }
   ],
   "source": [
    "# Height greater than 182\n",
    "P1 = (1 - one_sigma_deviation) * 0.5\n",
    "P1"
   ]
  },
  {
   "cell_type": "code",
   "execution_count": 15,
   "metadata": {},
   "outputs": [
    {
     "data": {
      "text/plain": [
       "0.02275013194817921"
      ]
     },
     "execution_count": 15,
     "metadata": {},
     "output_type": "execute_result"
    }
   ],
   "source": [
    "# Height greater than 190\n",
    "P2 = (1 - two_sigmas_deviation) * 0.5\n",
    "P2"
   ]
  },
  {
   "cell_type": "code",
   "execution_count": 16,
   "metadata": {},
   "outputs": [
    {
     "data": {
      "text/plain": [
       "0.8185946141203637"
      ]
     },
     "execution_count": 16,
     "metadata": {},
     "output_type": "execute_result"
    }
   ],
   "source": [
    "# Height between 166 and 190\n",
    "P3 = one_sigma_deviation + ((two_sigmas_deviation - one_sigma_deviation) * 0.5)\n",
    "P3"
   ]
  },
  {
   "cell_type": "code",
   "execution_count": 17,
   "metadata": {},
   "outputs": [
    {
     "data": {
      "text/plain": [
       "0.6826894921370859"
      ]
     },
     "execution_count": 17,
     "metadata": {},
     "output_type": "execute_result"
    }
   ],
   "source": [
    "# Height between 166 and 182\n",
    "P4 = one_sigma_deviation\n",
    "P4"
   ]
  },
  {
   "cell_type": "code",
   "execution_count": 18,
   "metadata": {},
   "outputs": [
    {
     "data": {
      "text/plain": [
       "0.9544997361036416"
      ]
     },
     "execution_count": 18,
     "metadata": {},
     "output_type": "execute_result"
    }
   ],
   "source": [
    "# Height between 158 and 190\n",
    "P5 = two_sigmas_deviation\n",
    "P5"
   ]
  },
  {
   "cell_type": "code",
   "execution_count": 19,
   "metadata": {},
   "outputs": [
    {
     "data": {
      "text/plain": [
       "0.024100029979809312"
      ]
     },
     "execution_count": 19,
     "metadata": {},
     "output_type": "execute_result"
    }
   ],
   "source": [
    "# Height less than 150 or greater than 190\n",
    "P6 = ((1 - three_sigmas_deviation) * 0.5) + ((1 - two_sigmas_deviation) * 0.5)\n",
    "P6"
   ]
  },
  {
   "cell_type": "code",
   "execution_count": 20,
   "metadata": {},
   "outputs": [
    {
     "data": {
      "text/plain": [
       "0.002699796063260207"
      ]
     },
     "execution_count": 20,
     "metadata": {},
     "output_type": "execute_result"
    }
   ],
   "source": [
    "# Height less than 150 or greater than 198\n",
    "P7 = 1 - three_sigmas_deviation\n",
    "P7"
   ]
  },
  {
   "cell_type": "code",
   "execution_count": 21,
   "metadata": {},
   "outputs": [
    {
     "data": {
      "text/plain": [
       "0.15865525393145707"
      ]
     },
     "execution_count": 21,
     "metadata": {},
     "output_type": "execute_result"
    }
   ],
   "source": [
    "# Height less than 166\n",
    "P8 = (1 - one_sigma_deviation) * 0.5\n",
    "P8"
   ]
  },
  {
   "cell_type": "markdown",
   "metadata": {},
   "source": [
    "#### Задача 4\n",
    "Каким образом связаны между собой понятие квантиля и правила двух и трёх сигм? \n",
    "Данное задание - на подумать, оформлять его не обязательно. Этот вопрос мы обсудим в начале следующего занятия."
   ]
  }
 ],
 "metadata": {
  "kernelspec": {
   "display_name": "Python 3",
   "language": "python",
   "name": "python3"
  },
  "language_info": {
   "codemirror_mode": {
    "name": "ipython",
    "version": 3
   },
   "file_extension": ".py",
   "mimetype": "text/x-python",
   "name": "python",
   "nbconvert_exporter": "python",
   "pygments_lexer": "ipython3",
   "version": "3.7.3"
  }
 },
 "nbformat": 4,
 "nbformat_minor": 2
}
